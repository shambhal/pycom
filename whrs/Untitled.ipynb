{
 "cells": [
  {
   "cell_type": "code",
   "execution_count": 2,
   "id": "ba4667f9-01bf-468d-a07d-e5148fc448b9",
   "metadata": {},
   "outputs": [
    {
     "name": "stdout",
     "output_type": "stream",
     "text": [
      "public function clear() {\n",
      "\t\t$this->db->query(\"DELETE FROM \" . DB_PREFIX . \"cart WHERE api_id = '\" . (isset($this->session->data['api_id']) ? (int)$this->session->data['api_id'] : 0) . \"' AND customer_id = '\" . (int)$this->customer->getId() . \"' AND session_id = '\" . $this->db->escape($this->session->getId()) . \"'\");\n",
      "\t}\n",
      "public function clear() {\n",
      "\t\tapp('db')->select(\"DELETE FROM \" . $prefix. \"cart WHERE api_id = '\" . (isset($this->session->data['api_id']) ? (int)$this->session->data['api_id'] : 0) . \"' AND customer_id = '\" . (int)$this->customer->getId() . \"' AND session_id = '\" . $this->db->escape($this->session->getId()) . \"'\");\n",
      "\t}\n"
     ]
    }
   ],
   "source": [
    "path_to_file=\"C:\\\\fluapp\\\\file.txt\";\n",
    "f=open(path_to_file, \"r\")\n",
    "content=f.read()\n",
    "print(content)\n",
    "content=content.replace(\"$this->config->get('config_store_id')\",'$config_store_id')\n",
    "content=content.replace(\"DB_PREFIX \",'$prefix')\n",
    "content=content.replace(\"$this->config->get('config_customer_group_id')\",\"$config_customer_group_id\")\n",
    "content=content.replace(\"$this->config->get('config_language_id')\",\"$config_language_id\")\n",
    "content=content.replace(\"$this->db->query\",\"app('db')->select\")\n",
    "content=content.replace(\"->rows\",\"\")\n",
    "print(content)\n",
    "#content.writeLine\n",
    "#f.write(content)\n",
    "f.close()\n",
    "f=open(path_to_file, \"w\")\n",
    "f.write(content)\n",
    "f.close()"
   ]
  },
  {
   "cell_type": "code",
   "execution_count": null,
   "id": "66b0895f-e536-4236-b6eb-7d30385465fb",
   "metadata": {},
   "outputs": [],
   "source": []
  },
  {
   "cell_type": "code",
   "execution_count": null,
   "id": "cc3abcca-1e01-4209-bdb9-0507f6f741a7",
   "metadata": {},
   "outputs": [],
   "source": []
  },
  {
   "cell_type": "code",
   "execution_count": null,
   "id": "b61b3939-0ac6-47a5-b90e-0cb7b6898749",
   "metadata": {},
   "outputs": [],
   "source": []
  },
  {
   "cell_type": "code",
   "execution_count": null,
   "id": "a6efa925-c94d-4f36-804b-0cf2beb9f14e",
   "metadata": {},
   "outputs": [],
   "source": []
  },
  {
   "cell_type": "code",
   "execution_count": null,
   "id": "23e2b0c1-d843-482d-98b1-4e01528d68ba",
   "metadata": {},
   "outputs": [],
   "source": []
  }
 ],
 "metadata": {
  "kernelspec": {
   "display_name": "Python 3",
   "language": "python",
   "name": "python3"
  },
  "language_info": {
   "codemirror_mode": {
    "name": "ipython",
    "version": 3
   },
   "file_extension": ".py",
   "mimetype": "text/x-python",
   "name": "python",
   "nbconvert_exporter": "python",
   "pygments_lexer": "ipython3",
   "version": "3.7.10"
  }
 },
 "nbformat": 4,
 "nbformat_minor": 5
}
