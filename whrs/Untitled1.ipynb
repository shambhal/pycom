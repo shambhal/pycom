{
 "cells": [
  {
   "cell_type": "code",
   "execution_count": 31,
   "id": "19374a5e-ef93-432e-9296-3776d6be1a3c",
   "metadata": {},
   "outputs": [
    {
     "name": "stdout",
     "output_type": "stream",
     "text": [
      "kisk\n",
      "py\n"
     ]
    }
   ],
   "source": [
    "import pathlib\n",
    "import os\n",
    "filename='kisk/py/apb.jpg';\n",
    "#filename='abp.gif'\n",
    "width='200'\n",
    "height='100'\n",
    "extension = pathlib.Path(filename).suffix\n",
    "fwext=pathlib.Path(filename).stem\n",
    "dirs=os.path.dirname(filename)\n",
    "  \n",
    "image_new = 'cache/' +dirs+ fwext+ '-' +width + 'x' + height + extension\n",
    "directories = dirs.split('/');\n",
    "for dir in directories:\n",
    "    print(dir)"
   ]
  },
  {
   "cell_type": "code",
   "execution_count": 4,
   "id": "663e4ea7-b38c-4234-91be-91dbfc7b6579",
   "metadata": {},
   "outputs": [
    {
     "ename": "NameError",
     "evalue": "name 'PIL' is not defined",
     "output_type": "error",
     "traceback": [
      "\u001b[1;31m---------------------------------------------------------------------------\u001b[0m",
      "\u001b[1;31mNameError\u001b[0m                                 Traceback (most recent call last)",
      "\u001b[1;32m<ipython-input-4-610be2a9d123>\u001b[0m in \u001b[0;36m<module>\u001b[1;34m\u001b[0m\n\u001b[0;32m     56\u001b[0m                 \u001b[0mshutil\u001b[0m\u001b[1;33m.\u001b[0m\u001b[0mcopyfile\u001b[0m\u001b[1;33m(\u001b[0m\u001b[0mfpath\u001b[0m\u001b[1;33m,\u001b[0m\u001b[0mDIR_IMAGE\u001b[0m\u001b[1;33m+\u001b[0m\u001b[0mimage_new\u001b[0m\u001b[1;33m)\u001b[0m\u001b[1;33m\u001b[0m\u001b[1;33m\u001b[0m\u001b[0m\n\u001b[0;32m     57\u001b[0m                 \u001b[1;32mreturn\u001b[0m \u001b[0mimage_new\u001b[0m\u001b[1;33m\u001b[0m\u001b[1;33m\u001b[0m\u001b[0m\n\u001b[1;32m---> 58\u001b[1;33m \u001b[0mfile\u001b[0m\u001b[1;33m=\u001b[0m\u001b[0mresize\u001b[0m\u001b[1;33m(\u001b[0m\u001b[1;34m'catalog/lupchup/iphone6.jpg'\u001b[0m\u001b[1;33m,\u001b[0m\u001b[1;36m100\u001b[0m\u001b[1;33m,\u001b[0m\u001b[1;36m100\u001b[0m\u001b[1;33m)\u001b[0m\u001b[1;33m\u001b[0m\u001b[1;33m\u001b[0m\u001b[0m\n\u001b[0m\u001b[0;32m     59\u001b[0m \u001b[0mprint\u001b[0m\u001b[1;33m(\u001b[0m\u001b[0mfile\u001b[0m\u001b[1;33m)\u001b[0m\u001b[1;33m\u001b[0m\u001b[1;33m\u001b[0m\u001b[0m\n",
      "\u001b[1;32m<ipython-input-4-610be2a9d123>\u001b[0m in \u001b[0;36mresize\u001b[1;34m(filename, width, height)\u001b[0m\n\u001b[0;32m     21\u001b[0m         \u001b[0mdirs\u001b[0m\u001b[1;33m=\u001b[0m\u001b[1;34m'cache/'\u001b[0m\u001b[1;33m+\u001b[0m\u001b[0mdirds\u001b[0m\u001b[1;33m[\u001b[0m\u001b[1;36m0\u001b[0m\u001b[1;33m]\u001b[0m\u001b[1;33m\u001b[0m\u001b[1;33m\u001b[0m\u001b[0m\n\u001b[0;32m     22\u001b[0m         \u001b[0mimage_new\u001b[0m \u001b[1;33m=\u001b[0m \u001b[1;34m'cache/'\u001b[0m \u001b[1;33m+\u001b[0m\u001b[0mdirs\u001b[0m\u001b[1;33m+\u001b[0m \u001b[0mfwext\u001b[0m\u001b[1;33m+\u001b[0m \u001b[1;34m'-'\u001b[0m \u001b[1;33m+\u001b[0m\u001b[0mstr\u001b[0m\u001b[1;33m(\u001b[0m\u001b[0mwidth\u001b[0m\u001b[1;33m)\u001b[0m \u001b[1;33m+\u001b[0m \u001b[1;34m'x'\u001b[0m \u001b[1;33m+\u001b[0m \u001b[0mstr\u001b[0m\u001b[1;33m(\u001b[0m\u001b[0mheight\u001b[0m\u001b[1;33m)\u001b[0m \u001b[1;33m+\u001b[0m \u001b[0mextension\u001b[0m\u001b[1;33m\u001b[0m\u001b[1;33m\u001b[0m\u001b[0m\n\u001b[1;32m---> 23\u001b[1;33m         \u001b[0mow\u001b[0m\u001b[1;33m,\u001b[0m\u001b[0moh\u001b[0m\u001b[1;33m=\u001b[0m\u001b[0mPIL\u001b[0m\u001b[1;33m.\u001b[0m\u001b[0mImage\u001b[0m\u001b[1;33m.\u001b[0m\u001b[0mopen\u001b[0m\u001b[1;33m(\u001b[0m\u001b[0mfpath\u001b[0m\u001b[1;33m)\u001b[0m\u001b[1;33m.\u001b[0m\u001b[0msize\u001b[0m\u001b[1;33m\u001b[0m\u001b[1;33m\u001b[0m\u001b[0m\n\u001b[0m\u001b[0;32m     24\u001b[0m         \u001b[1;32mif\u001b[0m\u001b[1;33m(\u001b[0m\u001b[1;32mnot\u001b[0m \u001b[0mos\u001b[0m\u001b[1;33m.\u001b[0m\u001b[0mpath\u001b[0m\u001b[1;33m.\u001b[0m\u001b[0mexists\u001b[0m\u001b[1;33m(\u001b[0m\u001b[0mDIR_IMAGE\u001b[0m\u001b[1;33m+\u001b[0m\u001b[0mimage_new\u001b[0m\u001b[1;33m)\u001b[0m\u001b[1;33m)\u001b[0m\u001b[1;33m:\u001b[0m\u001b[1;33m\u001b[0m\u001b[1;33m\u001b[0m\u001b[0m\n\u001b[0;32m     25\u001b[0m \u001b[1;33m\u001b[0m\u001b[0m\n",
      "\u001b[1;31mNameError\u001b[0m: name 'PIL' is not defined"
     ]
    }
   ],
   "source": [
    "import os.path\n",
    "import pathlib\n",
    "from PIL import Image\n",
    "import shutil\n",
    "MEDIA_ROOT=\"C:/Users/shambhal/dapps/sc/media/\"\n",
    "MEDIA_STATIC='C:/Users/shambhal/dapps/sc/static/'\n",
    "def resize(filename, width, height) :\n",
    "    \t\n",
    "        fpath=MEDIA_ROOT+filename\n",
    "        DIR_IMAGE=MEDIA_STATIC\n",
    "        if(not os.path.exists(fpath)):\n",
    "         return\n",
    "        extension = pathlib.Path(filename).suffix\n",
    "        allowed_ext=['.jpg','.JPG','.GIF','.PNG','.png','.gif']\n",
    "        image_old = filename\n",
    "        '''filename without extension\n",
    "        '''\n",
    "        fwext=pathlib.Path(filename).stem\n",
    "        dirds=os.path.split(filename)\n",
    "        #dirs=pathlib.Path(filename).parts\n",
    "        dirs='cache/'+dirds[0]\n",
    "        image_new = 'cache/' +dirs+ fwext+ '-' +str(width) + 'x' + str(height) + extension\n",
    "        ow,oh=PIL.Image.open(fpath).size\n",
    "        if(not os.path.exists(DIR_IMAGE+image_new)):\n",
    "\t\t\n",
    "\t\t\t\t \n",
    "            if (not extension  in allowed_ext) :\n",
    "              return DIR_IMAGE + image_old\n",
    "\n",
    "            path = ''\n",
    "           \n",
    "            directories = dirs.split('/')\n",
    "            print(directories)\n",
    "           \n",
    "            prefix=''\n",
    "            for dir in directories :\n",
    "                print(dir)\n",
    "                path=path+prefix+dir\n",
    "                print(DIR_IMAGE+path)\n",
    "                if(not os.path.exists(DIR_IMAGE+path)):\n",
    "                  print(\"moning path\")\n",
    "                  print(DIR_IMAGE+path+'/')\n",
    "                  os.mkdir(DIR_IMAGE+path+'/')\n",
    "                prefix='/'\n",
    "                \n",
    "           \n",
    "            #os.makedirs(DIR_IMAGE+dirs,0o777,True)\n",
    "\n",
    "            if (ow != width or oh != height) :\n",
    "                image = Image.open(DIR_IMAGE + image_old)\n",
    "                image.resize(width, height)\n",
    "                image.save(DIR_IMAGE + image_new)\n",
    "                hutil.copyfile(fpath,DIR_IMAGE+image_new)\n",
    "                return image_new\n",
    "            else:\n",
    "                shutil.copyfile(fpath,DIR_IMAGE+image_new)\n",
    "                return image_new \n",
    "file=resize('catalog/lupchup/iphone6.jpg',100,100)   \n",
    "print(file)"
   ]
  },
  {
   "cell_type": "code",
   "execution_count": null,
   "id": "c7e3f798-73d5-4887-86e9-dce46b6b0f6a",
   "metadata": {},
   "outputs": [],
   "source": []
  },
  {
   "cell_type": "code",
   "execution_count": null,
   "id": "1a7c2c21-3eb0-42fc-a885-38afcf537aa1",
   "metadata": {},
   "outputs": [],
   "source": []
  },
  {
   "cell_type": "code",
   "execution_count": null,
   "id": "f4f9dc1a-0963-4ad0-bf5b-6ad6d4ba66a4",
   "metadata": {},
   "outputs": [],
   "source": []
  }
 ],
 "metadata": {
  "kernelspec": {
   "display_name": "Python 3",
   "language": "python",
   "name": "python3"
  },
  "language_info": {
   "codemirror_mode": {
    "name": "ipython",
    "version": 3
   },
   "file_extension": ".py",
   "mimetype": "text/x-python",
   "name": "python",
   "nbconvert_exporter": "python",
   "pygments_lexer": "ipython3",
   "version": "3.7.10"
  }
 },
 "nbformat": 4,
 "nbformat_minor": 5
}
